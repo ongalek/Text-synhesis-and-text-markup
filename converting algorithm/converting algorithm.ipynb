{
 "cells": [
  {
   "attachments": {},
   "cell_type": "markdown",
   "id": "8de9375c",
   "metadata": {},
   "source": [
    "# Конвертация в формат LjSpeech #\n",
    "- Импортируется библиотека Pandas для работы с таблицами данных.\n",
    "- Считывается таблица данных из файла DATASET.xlsx в переменную df.\n",
    "- В столбце Name добавляется префикс 'wavs/' и расширение '.wav'.\n",
    "- Столбец Transcript удаляется из таблицы.\n",
    "- Создается новый столбец с именем Name, в котором заменяется подстрока 'data' на 'chunk'.\n",
    "- Данные таблицы разбиваются на три части: тренировочную, тестовую и валидационную.\n",
    "- Тренировочные данные записываются в файл text_train_filelist.txt.\n",
    "- Тестовые данные записываются в файл text_test_filelist.txt.\n",
    "- Валидационные данные записываются в файл text_val_filelist.txt.\n",
    "- Разделитель столбцов в файлах - табуляция."
   ]
  },
  {
   "cell_type": "code",
   "execution_count": null,
   "id": "0420c2ef",
   "metadata": {},
   "outputs": [],
   "source": [
    "import pandas as pd\n",
    "df = pd.read_excel('C:/Users/nizhe/Downloads/DATASET.xlsx')"
   ]
  },
  {
   "cell_type": "code",
   "execution_count": null,
   "id": "4f848230",
   "metadata": {},
   "outputs": [],
   "source": [
    "df['Name'] = 'wavs/' + df['Name'] + '.wav'\n",
    "df.drop('Transcript', axis=1, inplace=True)"
   ]
  },
  {
   "cell_type": "code",
   "execution_count": null,
   "id": "136e1163",
   "metadata": {},
   "outputs": [],
   "source": [
    "df = df['Name'].str.replace('data', 'chunk')"
   ]
  },
  {
   "cell_type": "code",
   "execution_count": null,
   "id": "d695945b",
   "metadata": {},
   "outputs": [],
   "source": [
    "dftrain = df.iloc[:22290]\n",
    "dftest = df.iloc[22290:22790]\n",
    "dfvalid = df.iloc[22790:]"
   ]
  },
  {
   "cell_type": "code",
   "execution_count": null,
   "id": "be01ea15",
   "metadata": {},
   "outputs": [],
   "source": [
    "dftrain.to_csv(r'data/text_train_filelist.txt', header=None, index=None, sep='\\t')\n",
    "dftest.to_csv(r'data/text_test_filelist.txt', header=None, index=None, sep='\\t')\n",
    "dfvalid.to_csv(r'data/text_val_filelist.txt', header=None, index=None, sep='\\t')"
   ]
  },
  {
   "attachments": {},
   "cell_type": "markdown",
   "id": "6acac6a0",
   "metadata": {},
   "source": [
    "# Установка количества каналов #\n",
    "- Импортируется библиотека pydub для работы с аудиофайлами.\n",
    "- Запускается цикл по диапазону значений от 0 до 22889.\n",
    "- Для каждого значения i создается объект AudioSegment, который считывает аудиофайл из заданного пути.\n",
    "- Созданный объект затем изменяет число каналов на 1 и экспортируется в новый монофонический аудиофайл с тем же названием.\n",
    "- Запускается второй цикл по диапазону значений от 0 до 22889.\n",
    "- Для каждого значения i создается объект AudioSegment, который считывает аудиофайл из заданного пути, указывая частоту дискретизации 48000.\n",
    "- Созданный объект затем изменяет частоту дискретизации на 22050 и экспортируется в новый аудиофайл с тем же названием."
   ]
  },
  {
   "cell_type": "code",
   "execution_count": null,
   "id": "48497c49",
   "metadata": {},
   "outputs": [],
   "source": [
    "from pydub import AudioSegment\n",
    "for i in range(0,22889):\n",
    "    sound = AudioSegment.from_wav(f\"C:/Users/nizhe/Desktop/Tacotron2/tacotron2/wavs/chunk{i}.wav\")\n",
    "    sound = sound.set_channels(1)\n",
    "    sound.export(f\"C:/Users/nizhe/Desktop/wavsmono/chunk{i}.wav\", format=\"wav\")"
   ]
  },
  {
   "cell_type": "code",
   "execution_count": null,
   "id": "d1483e5a",
   "metadata": {},
   "outputs": [],
   "source": [
    "from pydub import AudioSegment as am\n",
    "for i in range(0,22889):\n",
    "    sound = am.from_file(f\"C:/Users/nizhe/Desktop/Tacotron2/tacotron2/wavs/chunk{i}.wav\", format='wav', frame_rate=48000)\n",
    "    sound = sound.set_frame_rate(22050)\n",
    "    sound.export(f\"C:/Users/nizhe/Desktop/wavs/chunk{i}.wav\", format='wav')"
   ]
  }
 ],
 "metadata": {
  "kernelspec": {
   "display_name": "Python 3 (ipykernel)",
   "language": "python",
   "name": "python3"
  },
  "language_info": {
   "codemirror_mode": {
    "name": "ipython",
    "version": 3
   },
   "file_extension": ".py",
   "mimetype": "text/x-python",
   "name": "python",
   "nbconvert_exporter": "python",
   "pygments_lexer": "ipython3",
   "version": "3.9.12"
  }
 },
 "nbformat": 4,
 "nbformat_minor": 5
}
