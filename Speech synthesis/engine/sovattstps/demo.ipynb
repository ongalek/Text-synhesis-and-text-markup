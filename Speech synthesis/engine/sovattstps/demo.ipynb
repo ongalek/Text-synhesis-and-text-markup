{
 "cells": [
  {
   "cell_type": "code",
   "execution_count": null,
   "metadata": {},
   "outputs": [],
   "source": [
    "from tps import Handler\n",
    "\n",
    "handler = Handler.from_charset(\"ru\", silent=True)\n",
    "text = \"В чащах юга жил бы цитрус? Да, но фальшивый экземпляр!\"\n",
    "\n",
    "result = handler.process_text(text, keep_delimiters=False)\n",
    "print(result)"
   ]
  },
  {
   "cell_type": "code",
   "execution_count": 20,
   "metadata": {},
   "outputs": [],
   "source": [
    "import pandas as pd\n",
    "df = pd.read_excel('C:/Users/nizhe/Downloads/DATASET.xlsx')"
   ]
  },
  {
   "cell_type": "code",
   "execution_count": 21,
   "metadata": {},
   "outputs": [
    {
     "data": {
      "text/html": [
       "<div>\n",
       "<style scoped>\n",
       "    .dataframe tbody tr th:only-of-type {\n",
       "        vertical-align: middle;\n",
       "    }\n",
       "\n",
       "    .dataframe tbody tr th {\n",
       "        vertical-align: top;\n",
       "    }\n",
       "\n",
       "    .dataframe thead th {\n",
       "        text-align: right;\n",
       "    }\n",
       "</style>\n",
       "<table border=\"1\" class=\"dataframe\">\n",
       "  <thead>\n",
       "    <tr style=\"text-align: right;\">\n",
       "      <th></th>\n",
       "      <th>Name</th>\n",
       "      <th>Transcript</th>\n",
       "    </tr>\n",
       "  </thead>\n",
       "  <tbody>\n",
       "    <tr>\n",
       "      <th>0</th>\n",
       "      <td>data0</td>\n",
       "      <td>Я вас категорически приветствую в этом выпуске...</td>\n",
       "    </tr>\n",
       "    <tr>\n",
       "      <th>1</th>\n",
       "      <td>data1</td>\n",
       "      <td>Всё первые проблемы с теамдецк когда выйдет.</td>\n",
       "    </tr>\n",
       "    <tr>\n",
       "      <th>2</th>\n",
       "      <td>data2</td>\n",
       "      <td>Последний цалл оф дуты криминальная история ёж...</td>\n",
       "    </tr>\n",
       "    <tr>\n",
       "      <th>3</th>\n",
       "      <td>data3</td>\n",
       "      <td>Почётную премию и мы немедленно переходим к но...</td>\n",
       "    </tr>\n",
       "    <tr>\n",
       "      <th>4</th>\n",
       "      <td>data4</td>\n",
       "      <td>Буквально в прошлом выпуске опергеймера намека...</td>\n",
       "    </tr>\n",
       "    <tr>\n",
       "      <th>...</th>\n",
       "      <td>...</td>\n",
       "      <td>...</td>\n",
       "    </tr>\n",
       "    <tr>\n",
       "      <th>22885</th>\n",
       "      <td>data22885</td>\n",
       "      <td>Не приключиться что-нибудь и такая интересная ...</td>\n",
       "    </tr>\n",
       "    <tr>\n",
       "      <th>22886</th>\n",
       "      <td>data22886</td>\n",
       "      <td>Прихватит сердце у тридцатилетнего парня и спр...</td>\n",
       "    </tr>\n",
       "    <tr>\n",
       "      <th>22887</th>\n",
       "      <td>data22887</td>\n",
       "      <td>Будет не скоро открывать тотализатор когда и к...</td>\n",
       "    </tr>\n",
       "    <tr>\n",
       "      <th>22888</th>\n",
       "      <td>data22888</td>\n",
       "      <td>Соскочит из-под следствия ну а на сегодня всё.</td>\n",
       "    </tr>\n",
       "    <tr>\n",
       "      <th>22889</th>\n",
       "      <td>data22889</td>\n",
       "      <td>До новых встреч.</td>\n",
       "    </tr>\n",
       "  </tbody>\n",
       "</table>\n",
       "<p>22890 rows × 2 columns</p>\n",
       "</div>"
      ],
      "text/plain": [
       "            Name                                         Transcript\n",
       "0          data0  Я вас категорически приветствую в этом выпуске...\n",
       "1          data1      Всё первые проблемы с теамдецк когда выйдет. \n",
       "2          data2  Последний цалл оф дуты криминальная история ёж...\n",
       "3          data3  Почётную премию и мы немедленно переходим к но...\n",
       "4          data4  Буквально в прошлом выпуске опергеймера намека...\n",
       "...          ...                                                ...\n",
       "22885  data22885  Не приключиться что-нибудь и такая интересная ...\n",
       "22886  data22886  Прихватит сердце у тридцатилетнего парня и спр...\n",
       "22887  data22887  Будет не скоро открывать тотализатор когда и к...\n",
       "22888  data22888    Соскочит из-под следствия ну а на сегодня всё. \n",
       "22889  data22889                                  До новых встреч. \n",
       "\n",
       "[22890 rows x 2 columns]"
      ]
     },
     "execution_count": 21,
     "metadata": {},
     "output_type": "execute_result"
    }
   ],
   "source": [
    "df"
   ]
  },
  {
   "cell_type": "code",
   "execution_count": 22,
   "metadata": {},
   "outputs": [],
   "source": [
    "for i in range(0,22889):\n",
    "    text = df['Transcript'][i]\n",
    "    result = handler.process_text(text, keep_delimiters=False)\n",
    "    df['Transcript'][i] = result"
   ]
  },
  {
   "cell_type": "code",
   "execution_count": 23,
   "metadata": {},
   "outputs": [],
   "source": [
    "df['Name'] = 'wavs/' + df['Name'] + '.wav|' + df['Transcript']"
   ]
  },
  {
   "cell_type": "code",
   "execution_count": 24,
   "metadata": {},
   "outputs": [
    {
     "data": {
      "text/html": [
       "<div>\n",
       "<style scoped>\n",
       "    .dataframe tbody tr th:only-of-type {\n",
       "        vertical-align: middle;\n",
       "    }\n",
       "\n",
       "    .dataframe tbody tr th {\n",
       "        vertical-align: top;\n",
       "    }\n",
       "\n",
       "    .dataframe thead th {\n",
       "        text-align: right;\n",
       "    }\n",
       "</style>\n",
       "<table border=\"1\" class=\"dataframe\">\n",
       "  <thead>\n",
       "    <tr style=\"text-align: right;\">\n",
       "      <th></th>\n",
       "      <th>Name</th>\n",
       "      <th>Transcript</th>\n",
       "    </tr>\n",
       "  </thead>\n",
       "  <tbody>\n",
       "    <tr>\n",
       "      <th>0</th>\n",
       "      <td>wavs/data0.wav|я в+ас категор+ически приветств...</td>\n",
       "      <td>я в+ас категор+ически приветствую в +этом в+ып...</td>\n",
       "    </tr>\n",
       "    <tr>\n",
       "      <th>1</th>\n",
       "      <td>wavs/data1.wav|вс+ё п+ервые пробл+емы с теамде...</td>\n",
       "      <td>вс+ё п+ервые пробл+емы с теамдецк когда в+ыйдет.</td>\n",
       "    </tr>\n",
       "    <tr>\n",
       "      <th>2</th>\n",
       "      <td>wavs/data2.wav|посл+едний цалл оф д+уты кримин...</td>\n",
       "      <td>посл+едний цалл оф д+уты кримин+альная ист+ори...</td>\n",
       "    </tr>\n",
       "    <tr>\n",
       "      <th>3</th>\n",
       "      <td>wavs/data3.wav|поч+ётную пр+емию и м+ы нем+едл...</td>\n",
       "      <td>поч+ётную пр+емию и м+ы нем+едленно перех+одим...</td>\n",
       "    </tr>\n",
       "    <tr>\n",
       "      <th>4</th>\n",
       "      <td>wavs/data4.wav|букв+ально в пр+ошлом в+ыпуске ...</td>\n",
       "      <td>букв+ально в пр+ошлом в+ыпуске опергеймера нам...</td>\n",
       "    </tr>\n",
       "    <tr>\n",
       "      <th>...</th>\n",
       "      <td>...</td>\n",
       "      <td>...</td>\n",
       "    </tr>\n",
       "    <tr>\n",
       "      <th>22885</th>\n",
       "      <td>wavs/data22885.wav|не приключ+иться что-нибудь...</td>\n",
       "      <td>не приключ+иться что-нибудь и такая интер+есна...</td>\n",
       "    </tr>\n",
       "    <tr>\n",
       "      <th>22886</th>\n",
       "      <td>wavs/data22886.wav|прихв+атит с+ердце у тридца...</td>\n",
       "      <td>прихв+атит с+ердце у тридцатил+етнего п+арня и...</td>\n",
       "    </tr>\n",
       "    <tr>\n",
       "      <th>22887</th>\n",
       "      <td>wavs/data22887.wav|б+удет не ск+оро открывать ...</td>\n",
       "      <td>б+удет не ск+оро открывать тотализ+атор когда ...</td>\n",
       "    </tr>\n",
       "    <tr>\n",
       "      <th>22888</th>\n",
       "      <td>wavs/data22888.wav|соск+очит из-под сл+едствия...</td>\n",
       "      <td>соск+очит из-под сл+едствия ну а на сегодня вс+ё.</td>\n",
       "    </tr>\n",
       "    <tr>\n",
       "      <th>22889</th>\n",
       "      <td>wavs/data22889.wav|До новых встреч.</td>\n",
       "      <td>До новых встреч.</td>\n",
       "    </tr>\n",
       "  </tbody>\n",
       "</table>\n",
       "<p>22890 rows × 2 columns</p>\n",
       "</div>"
      ],
      "text/plain": [
       "                                                    Name  \\\n",
       "0      wavs/data0.wav|я в+ас категор+ически приветств...   \n",
       "1      wavs/data1.wav|вс+ё п+ервые пробл+емы с теамде...   \n",
       "2      wavs/data2.wav|посл+едний цалл оф д+уты кримин...   \n",
       "3      wavs/data3.wav|поч+ётную пр+емию и м+ы нем+едл...   \n",
       "4      wavs/data4.wav|букв+ально в пр+ошлом в+ыпуске ...   \n",
       "...                                                  ...   \n",
       "22885  wavs/data22885.wav|не приключ+иться что-нибудь...   \n",
       "22886  wavs/data22886.wav|прихв+атит с+ердце у тридца...   \n",
       "22887  wavs/data22887.wav|б+удет не ск+оро открывать ...   \n",
       "22888  wavs/data22888.wav|соск+очит из-под сл+едствия...   \n",
       "22889               wavs/data22889.wav|До новых встреч.    \n",
       "\n",
       "                                              Transcript  \n",
       "0      я в+ас категор+ически приветствую в +этом в+ып...  \n",
       "1       вс+ё п+ервые пробл+емы с теамдецк когда в+ыйдет.  \n",
       "2      посл+едний цалл оф д+уты кримин+альная ист+ори...  \n",
       "3      поч+ётную пр+емию и м+ы нем+едленно перех+одим...  \n",
       "4      букв+ально в пр+ошлом в+ыпуске опергеймера нам...  \n",
       "...                                                  ...  \n",
       "22885  не приключ+иться что-нибудь и такая интер+есна...  \n",
       "22886  прихв+атит с+ердце у тридцатил+етнего п+арня и...  \n",
       "22887  б+удет не ск+оро открывать тотализ+атор когда ...  \n",
       "22888  соск+очит из-под сл+едствия ну а на сегодня вс+ё.  \n",
       "22889                                  До новых встреч.   \n",
       "\n",
       "[22890 rows x 2 columns]"
      ]
     },
     "execution_count": 24,
     "metadata": {},
     "output_type": "execute_result"
    }
   ],
   "source": [
    "df"
   ]
  },
  {
   "cell_type": "code",
   "execution_count": 25,
   "metadata": {},
   "outputs": [],
   "source": [
    "df.drop('Transcript', axis=1, inplace=True)"
   ]
  },
  {
   "cell_type": "code",
   "execution_count": 26,
   "metadata": {},
   "outputs": [],
   "source": [
    "df = df['Name'].str.replace('data', 'chunk')"
   ]
  },
  {
   "cell_type": "code",
   "execution_count": 27,
   "metadata": {},
   "outputs": [],
   "source": [
    "df1 = df.iloc[:22390]\n",
    "df2 = df.iloc[22290:22790]\n",
    "df3 = df.iloc[22790:]"
   ]
  },
  {
   "cell_type": "code",
   "execution_count": 28,
   "metadata": {},
   "outputs": [],
   "source": [
    "df1.to_csv(r'C:/Users/nizhe/Desktop/ljs_audio_text_train_filelist.txt', header=None, index=None, sep='\\t')\n",
    "df2.to_csv(r'C:/Users/nizhe/Desktop/ljs_audio_text_test_filelist.txt', header=None, index=None, sep='\\t')\n",
    "df3.to_csv(r'C:/Users/nizhe/Desktop/ljs_audio_text_val_filelist.txt', header=None, index=None, sep='\\t')"
   ]
  }
 ],
 "metadata": {
  "kernelspec": {
   "display_name": "base",
   "language": "python",
   "name": "python3"
  },
  "language_info": {
   "codemirror_mode": {
    "name": "ipython",
    "version": 3
   },
   "file_extension": ".py",
   "mimetype": "text/x-python",
   "name": "python",
   "nbconvert_exporter": "python",
   "pygments_lexer": "ipython3",
   "version": "3.9.12"
  },
  "orig_nbformat": 4
 },
 "nbformat": 4,
 "nbformat_minor": 2
}
